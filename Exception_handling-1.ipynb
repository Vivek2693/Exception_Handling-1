{
 "cells": [
  {
   "cell_type": "markdown",
   "id": "5f38610f",
   "metadata": {},
   "source": [
    "\n",
    "## Q1. What is an Exception in Python? Write the difference between Exceptions and Syntax errors.\n",
    "\n",
    "A1. In Python, an exception is an error that occurs during the execution of a program, interrupting the normal flow of the program's instructions. Exceptions can occur for various reasons, such as invalid input, file not found, or division by zero.\n",
    "\n",
    "The main difference between exceptions and syntax errors is as follows:\n",
    "\n",
    "### Exceptions:\n",
    "These occur during the execution of the program and are typically caused by logical errors, runtime conditions, or external factors. Examples include ZeroDivisionError, FileNotFoundError, and TypeError.\n",
    "\n",
    "### Syntax errors:\n",
    "\n",
    "These occur during the parsing of the Python code and are caused by invalid syntax. Examples include missing colons (:), unmatched parentheses or brackets, or misspelled keywords. Syntax errors prevent the code from being executed at all."
   ]
  },
  {
   "cell_type": "markdown",
   "id": "6cae9559",
   "metadata": {},
   "source": [
    "## Q2. What happens when an exception is not handled? Explain with an example.\n",
    "\n",
    "A2. When an exception is not handled, it propagates up the call stack until it is either caught and handled or until it reaches the top level of the program, causing the program to terminate and displaying an error message to the user."
   ]
  },
  {
   "cell_type": "code",
   "execution_count": 1,
   "id": "607b1c07",
   "metadata": {},
   "outputs": [
    {
     "ename": "ZeroDivisionError",
     "evalue": "division by zero",
     "output_type": "error",
     "traceback": [
      "\u001b[1;31m---------------------------------------------------------------------------\u001b[0m",
      "\u001b[1;31mZeroDivisionError\u001b[0m                         Traceback (most recent call last)",
      "Cell \u001b[1;32mIn[1], line 4\u001b[0m\n\u001b[0;32m      1\u001b[0m \u001b[38;5;28;01mdef\u001b[39;00m \u001b[38;5;21mdivide\u001b[39m(x, y):\n\u001b[0;32m      2\u001b[0m     \u001b[38;5;28;01mreturn\u001b[39;00m x \u001b[38;5;241m/\u001b[39m y\n\u001b[1;32m----> 4\u001b[0m result \u001b[38;5;241m=\u001b[39m \u001b[43mdivide\u001b[49m\u001b[43m(\u001b[49m\u001b[38;5;241;43m10\u001b[39;49m\u001b[43m,\u001b[49m\u001b[43m \u001b[49m\u001b[38;5;241;43m0\u001b[39;49m\u001b[43m)\u001b[49m  \u001b[38;5;66;03m# This will raise a ZeroDivisionError\u001b[39;00m\n\u001b[0;32m      5\u001b[0m \u001b[38;5;28mprint\u001b[39m(result)\n",
      "Cell \u001b[1;32mIn[1], line 2\u001b[0m, in \u001b[0;36mdivide\u001b[1;34m(x, y)\u001b[0m\n\u001b[0;32m      1\u001b[0m \u001b[38;5;28;01mdef\u001b[39;00m \u001b[38;5;21mdivide\u001b[39m(x, y):\n\u001b[1;32m----> 2\u001b[0m     \u001b[38;5;28;01mreturn\u001b[39;00m \u001b[43mx\u001b[49m\u001b[43m \u001b[49m\u001b[38;5;241;43m/\u001b[39;49m\u001b[43m \u001b[49m\u001b[43my\u001b[49m\n",
      "\u001b[1;31mZeroDivisionError\u001b[0m: division by zero"
     ]
    }
   ],
   "source": [
    "def divide(x, y):\n",
    "    return x / y\n",
    "\n",
    "result = divide(10, 0)  # This will raise a ZeroDivisionError\n",
    "print(result)  # This line will not be executed\n"
   ]
  },
  {
   "cell_type": "markdown",
   "id": "a2be843a",
   "metadata": {},
   "source": [
    "## Q3. Which Python statements are used to raise and handle exceptions? Explain with an example.\n",
    "\n",
    "A3. In Python, try, except, finally, and raise statements are used to handle exceptions."
   ]
  },
  {
   "cell_type": "code",
   "execution_count": 2,
   "id": "799e8158",
   "metadata": {},
   "outputs": [
    {
     "name": "stdout",
     "output_type": "stream",
     "text": [
      "Error: Division by zero!\n",
      "Cleanup code executed.\n"
     ]
    }
   ],
   "source": [
    "try:\n",
    "    result = 10 / 0\n",
    "except ZeroDivisionError:\n",
    "    print(\"Error: Division by zero!\")\n",
    "else:\n",
    "    print(\"Division successful!\")\n",
    "finally:\n",
    "    print(\"Cleanup code executed.\")\n"
   ]
  },
  {
   "cell_type": "markdown",
   "id": "5a6ae4b5",
   "metadata": {},
   "source": [
    "In this example:\n",
    "\n",
    "The try block contains the code that may raise an exception.\n",
    "The except block catches and handles specific exceptions, in this case, ZeroDivisionError.\n",
    "The else block is executed if no exception occurs.\n",
    "The finally block contains cleanup code that is always executed, regardless of whether an exception occurs."
   ]
  },
  {
   "cell_type": "markdown",
   "id": "0d88e251",
   "metadata": {},
   "source": [
    "## Q4. Explain with an example: try, except, else, finally, raise.\n",
    "\n"
   ]
  },
  {
   "cell_type": "code",
   "execution_count": 5,
   "id": "4c6437f4",
   "metadata": {},
   "outputs": [
    {
     "name": "stdout",
     "output_type": "stream",
     "text": [
      "Enter a number: -200\n",
      "Error: Number must be positive\n",
      "Cleanup code executed.\n"
     ]
    }
   ],
   "source": [
    "try:\n",
    "    x = int(input(\"Enter a number: \"))\n",
    "    if x <= 0:\n",
    "        raise ValueError(\"Number must be positive\")\n",
    "except ValueError as e:\n",
    "    print(\"Error:\", e)\n",
    "else:\n",
    "    print(\"You entered:\", x)\n",
    "finally:\n",
    "    print(\"Cleanup code executed.\")\n"
   ]
  },
  {
   "cell_type": "markdown",
   "id": "7f29042b",
   "metadata": {},
   "source": [
    "In this example:\n",
    "\n",
    "The try block attempts to convert user input to an integer and raises a ValueError if the input is not a positive number.\n",
    "The except block catches and handles the ValueError, printing an error message.\n",
    "The else block prints the user input if no exception occurs.\n",
    "The finally block contains cleanup code that is always executed, regardless of whether an exception occurs."
   ]
  },
  {
   "cell_type": "markdown",
   "id": "6fe6392d",
   "metadata": {},
   "source": [
    "## Q5. What are Custom Exceptions in Python? Why do we need Custom Exceptions? Explain with an example."
   ]
  },
  {
   "cell_type": "markdown",
   "id": "4ce31510",
   "metadata": {},
   "source": [
    "A5. Custom exceptions in Python are user-defined exceptions that allow developers to create their own exception classes with custom error messages and behaviors. We need custom exceptions to handle specific error conditions that are not covered by built-in exceptions."
   ]
  },
  {
   "cell_type": "code",
   "execution_count": 7,
   "id": "7c776fee",
   "metadata": {},
   "outputs": [
    {
     "name": "stdout",
     "output_type": "stream",
     "text": [
      "Custom Error: Cannot divide by zero\n"
     ]
    }
   ],
   "source": [
    "class CustomError(Exception):\n",
    "    def __init__(self, message):\n",
    "        super().__init__(message)\n",
    "\n",
    "def divide(x, y):\n",
    "    if y == 0:\n",
    "        raise CustomError(\"Cannot divide by zero\")\n",
    "    return x / y\n",
    "\n",
    "try:\n",
    "    result = divide(10, 0)\n",
    "except CustomError as e:\n",
    "    print(\"Custom Error:\", e)\n"
   ]
  },
  {
   "cell_type": "markdown",
   "id": "e4486eb7",
   "metadata": {},
   "source": [
    "In this example, we define a custom exception CustomError and raise it when attempting to divide by zero. We catch and handle the CustomError in the except block, printing a custom error message."
   ]
  },
  {
   "cell_type": "markdown",
   "id": "5270e990",
   "metadata": {},
   "source": [
    "## Q6. Create a custom exception class. Use this class to handle an exception.\n",
    "\n"
   ]
  },
  {
   "cell_type": "code",
   "execution_count": 10,
   "id": "a03ea68b",
   "metadata": {},
   "outputs": [
    {
     "name": "stdout",
     "output_type": "stream",
     "text": [
      "Enter your age: 200\n",
      "Custom Error: Invalid age\n"
     ]
    }
   ],
   "source": [
    "class CustomError(Exception):\n",
    "    def __init__(self, message):\n",
    "        super().__init__(message)\n",
    "\n",
    "def check_age(age):\n",
    "    if age < 0 or age > 150:\n",
    "        raise CustomError(\"Invalid age\")\n",
    "\n",
    "try:\n",
    "    age = int(input(\"Enter your age: \"))\n",
    "    check_age(age)\n",
    "    print(\"Valid age:\", age)\n",
    "except CustomError as e:\n",
    "    print(\"Custom Error:\", e)\n"
   ]
  },
  {
   "cell_type": "markdown",
   "id": "61aca13d",
   "metadata": {},
   "source": [
    "        super().__init__(message)\n",
    "is only used here as we didn't define the instance where message should point"
   ]
  },
  {
   "cell_type": "code",
   "execution_count": null,
   "id": "a5b8b145",
   "metadata": {},
   "outputs": [],
   "source": [
    "class CustomError(Exception):\n",
    "    def __init__(self, message):\n",
    "        self.message = message\n",
    "\n",
    "        \n",
    "def check_age(age):\n",
    "    if age < 0 or age > 150:\n",
    "        raise CustomError(\"Invalid age\")\n",
    "\n",
    "try:\n",
    "    age = int(input(\"Enter your age: \"))\n",
    "    check_age(age)\n",
    "    print(\"Valid age:\", age)\n",
    "except CustomError as e:\n",
    "    print(\"Custom Error:\", e)"
   ]
  },
  {
   "cell_type": "code",
   "execution_count": null,
   "id": "e23ad5b2",
   "metadata": {},
   "outputs": [],
   "source": []
  },
  {
   "cell_type": "code",
   "execution_count": null,
   "id": "c732ca04",
   "metadata": {},
   "outputs": [],
   "source": []
  }
 ],
 "metadata": {
  "kernelspec": {
   "display_name": "Python 3 (ipykernel)",
   "language": "python",
   "name": "python3"
  },
  "language_info": {
   "codemirror_mode": {
    "name": "ipython",
    "version": 3
   },
   "file_extension": ".py",
   "mimetype": "text/x-python",
   "name": "python",
   "nbconvert_exporter": "python",
   "pygments_lexer": "ipython3",
   "version": "3.10.9"
  }
 },
 "nbformat": 4,
 "nbformat_minor": 5
}
